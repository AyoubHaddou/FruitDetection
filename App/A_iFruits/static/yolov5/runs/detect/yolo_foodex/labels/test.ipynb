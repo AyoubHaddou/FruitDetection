{
 "cells": [
  {
   "cell_type": "code",
   "execution_count": 24,
   "metadata": {},
   "outputs": [
    {
     "name": "stdout",
     "output_type": "stream",
     "text": [
      "file_upload.txt\n",
      ".ipynb_checkpoints\n",
      "test.ipynb\n"
     ]
    }
   ],
   "source": [
    "import os \n",
    "\n",
    "for i in os.listdir('./'):\n",
    "    print(i)"
   ]
  },
  {
   "cell_type": "code",
   "execution_count": 2,
   "metadata": {},
   "outputs": [],
   "source": [
    "file1 = open(\"file_upload.txt\",\"w\") \n",
    "\n",
    "# file1.write(\"Hello \\n\") \n",
    "file1.writelines('') \n",
    "file1.close() "
   ]
  },
  {
   "cell_type": "code",
   "execution_count": 31,
   "metadata": {},
   "outputs": [],
   "source": []
  },
  {
   "cell_type": "code",
   "execution_count": 93,
   "metadata": {},
   "outputs": [
    {
     "data": {
      "text/plain": [
       "['ac', 'ab']"
      ]
     },
     "execution_count": 93,
     "metadata": {},
     "output_type": "execute_result"
    }
   ],
   "source": [
    "b = ['ab', 'ac', 'ab']\n",
    "a = list(set(b))\n",
    "a"
   ]
  },
  {
   "cell_type": "code",
   "execution_count": 89,
   "metadata": {},
   "outputs": [
    {
     "data": {
      "text/plain": [
       "[1, 2]"
      ]
     },
     "execution_count": 89,
     "metadata": {},
     "output_type": "execute_result"
    }
   ],
   "source": [
    "a = [1, 2 , 1]\n",
    "list(set(a))"
   ]
  },
  {
   "cell_type": "code",
   "execution_count": 87,
   "metadata": {},
   "outputs": [],
   "source": [
    "labels = {'Apple' : 0,\n",
    " 'Apricot' : 1,\n",
    " 'Avocado' : 2,\n",
    " 'Banana' : 3,\n",
    " 'Beetroot' : 4,\n",
    " 'Blueberry' : 5,\n",
    " 'Cactus' : 6,\n",
    " 'Cantaloupe' : 7,\n",
    " 'Carambula' : 8,\n",
    " 'Cauliflower': 9,\n",
    " 'Cherry' : 10,\n",
    " 'Chestnut' : 11,\n",
    " 'Clementine' : 12,\n",
    " 'Cocos' : 13,\n",
    " 'Corn' : 14,\n",
    " 'Dates' : 15,\n",
    " 'Eggplant' : 16,\n",
    " 'Ginger' : 17,\n",
    " 'Granadilla' : 18,\n",
    " 'Grape' : 19,\n",
    " 'Grapefruit' : 20,\n",
    " 'Guava' : 21,\n",
    " 'Hazelnut' : 22,\n",
    " 'Huckleberry' : 23,\n",
    " 'Kaki' : 24,\n",
    " 'Kiwi' : 25,\n",
    " 'Kohlrabi' : 26,\n",
    " 'Kumquats' : 27,\n",
    " 'Lemon' : 28,\n",
    " 'Limes' : 29,\n",
    " 'Lychee' : 30,\n",
    " 'Mandarine' : 31,\n",
    " 'Mango' : 32,\n",
    " 'Mangostan' : 33,\n",
    " 'Maracuja' : 34,\n",
    " 'Melon' : 35,\n",
    " 'Mulberry' : 36,\n",
    " 'Nectarine' : 37,\n",
    " 'Nut' : 38,\n",
    " 'Onion' : 39,\n",
    " 'Orange' : 40,\n",
    " 'Papaya' : 41,\n",
    " 'Passion' : 42,\n",
    " 'Peach' : 43,\n",
    " 'Pear' : 44,\n",
    " 'Pepino' : 45,\n",
    " 'Pepper' : 46,\n",
    " 'Physalis' : 47,\n",
    " 'Pineapple' : 48,\n",
    " 'Pitahaya' : 49,\n",
    " 'Plum' : 50,\n",
    " 'Pomegranate' : 51 ,\n",
    " 'Pomelo' : 52,\n",
    " 'Potato' : 53,\n",
    " 'Pumpkin' : 54,\n",
    " 'Quince' : 55,\n",
    " 'Rambutan' : 56,\n",
    " 'Raspberry' : 57,\n",
    " 'Redcurrant' : 58,\n",
    " 'Salak' : 59,\n",
    " 'Strawberry' : 60,\n",
    " 'Tamarillo' : 61,\n",
    " 'Tangelo' : 62,\n",
    " 'Tomato' : 63,\n",
    " 'Walnut' : 64}\n",
    " \n",
    "\n",
    "def return_predictions():\n",
    "\n",
    "    pred = []\n",
    "    with open(\"file_upload.txt\",\"r+\") as f :\n",
    "        for i in f.readlines():\n",
    "            class_name = i.split()[0]\n",
    "            class_name = transform_bale(class_name)\n",
    "            operation = f'{class_name} ({i.split()[5]})'\n",
    "            pred.append(operation)\n",
    "        f.truncate(0) \n",
    "\n",
    "    return pred\n",
    "\n",
    "def transform_bale(class_name):\n",
    "    for key, value in labels.items():\n",
    "        if int(class_name) == int(value):\n",
    "            return key \n"
   ]
  },
  {
   "cell_type": "code",
   "execution_count": 86,
   "metadata": {},
   "outputs": [
    {
     "data": {
      "text/plain": [
       "[]"
      ]
     },
     "execution_count": 86,
     "metadata": {},
     "output_type": "execute_result"
    }
   ],
   "source": [
    "pred = return_predictions()\n",
    "pred"
   ]
  },
  {
   "cell_type": "code",
   "execution_count": null,
   "metadata": {},
   "outputs": [],
   "source": []
  }
 ],
 "metadata": {
  "kernelspec": {
   "display_name": "Python 3.7.13 ('fruits')",
   "language": "python",
   "name": "python3"
  },
  "language_info": {
   "codemirror_mode": {
    "name": "ipython",
    "version": 3
   },
   "file_extension": ".py",
   "mimetype": "text/x-python",
   "name": "python",
   "nbconvert_exporter": "python",
   "pygments_lexer": "ipython3",
   "version": "3.7.13"
  },
  "orig_nbformat": 4,
  "vscode": {
   "interpreter": {
    "hash": "4e0d02a336d7574356185d69eb6934cb6ebbb8524aafbbc24ea4025dd2f05a29"
   }
  }
 },
 "nbformat": 4,
 "nbformat_minor": 2
}
